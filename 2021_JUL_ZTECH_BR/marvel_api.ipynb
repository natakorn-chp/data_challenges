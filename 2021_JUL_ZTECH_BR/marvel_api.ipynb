{
 "cells": [
  {
   "cell_type": "code",
   "execution_count": null,
   "id": "f585382e",
   "metadata": {},
   "outputs": [],
   "source": [
    "import json\n",
    "import requests\n",
    "import hashlib\n",
    "import pandas as pd\n",
    "import glob\n",
    "\n",
    "from config_key import pub_key, pri_key"
   ]
  },
  {
   "cell_type": "code",
   "execution_count": null,
   "id": "c50628b9",
   "metadata": {},
   "outputs": [],
   "source": [
    "def get_num_val(df_t):\n",
    "    num_col=['comics','series','stories','events']\n",
    "    \n",
    "    for val_col in num_col:\n",
    "        tmp_col_data = df_t[val_col].apply(lambda x: x['available'])\n",
    "        df_t[val_col] = tmp_col_data\n",
    "        \n",
    "    return df_t\n",
    "\n",
    "def chk_sts_req(sts_cde,ok_rslt,url_req):\n",
    "    # check status for the request\n",
    "    if(sts_cde == 200 and ok_rslt == True):\n",
    "        print('send a request status from {}: pass'.format(url_req))\n",
    "    else:\n",
    "        print('send a request status from {}: fail'.format(url_req))\n",
    "        print(sts_cde,ok_rslt)\n",
    "        \n",
    "def get_data(url_req):\n",
    "    response_req=requests.get(url_req)\n",
    "    chk_sts_req(response_req.status_code, response_req.ok,url_req)\n",
    "    \n",
    "    return response_req\n",
    "\n",
    "def save_json_file(response_req,set_num):\n",
    "    save_sts=0\n",
    "    \n",
    "    f_nm_tmp=\"marvel_char_set_{}.json\".format(set_num)\n",
    "    result_marvel_all = json.loads(response_req.text)\n",
    "    result_marvel_data = result_marvel_all['data']\n",
    "  \n",
    "    if (len(result_marvel_data['results']) != 0):\n",
    "        with open(src_pth+f_nm_tmp, 'w') as f:\n",
    "            json.dump(result_marvel_data['results'], f) \n",
    "        save_sts=1\n",
    "    else:\n",
    "        save_sts=0\n",
    "        \n",
    "    return save_sts\n",
    "\n",
    "def get_lst_nm():\n",
    "    offset=0\n",
    "    i=0\n",
    "    while True:\n",
    "        save_json_sts=0\n",
    "        if i > 0:\n",
    "            offset = offset+int(limit)+1\n",
    "            url=\"https://gateway.marvel.com:443/v1/public/characters?offset={}&limit={}&ts={}&apikey={}&hash={}\" \\\n",
    "            .format(offset,limit,ts,pub_key,f_hsh_key)\n",
    "            response = get_data(url)\n",
    "            save_json_sts=save_json_file(response,i)\n",
    "            offset = offset-1\n",
    "\n",
    "        else:\n",
    "            url=\"https://gateway.marvel.com:443/v1/public/characters?offset={}&limit={}&ts={}&apikey={}&hash={}\" \\\n",
    "            .format(offset,limit,ts,pub_key,f_hsh_key)\n",
    "            response = get_data(url)\n",
    "            save_json_sts=save_json_file(response,i)\n",
    "\n",
    "        if save_json_sts == 0:\n",
    "            print('done')\n",
    "            break\n",
    "\n",
    "        i+=1"
   ]
  },
  {
   "cell_type": "code",
   "execution_count": null,
   "id": "2a642379",
   "metadata": {},
   "outputs": [],
   "source": [
    "ts=\"2\"\n",
    "limit=\"50\"\n",
    "all_key=ts+pri_key+pub_key\n",
    "hsh_key=hashlib.md5(all_key.encode())\n",
    "f_hsh_key=hsh_key.hexdigest()\n",
    "\n",
    "# source file path\n",
    "src_pth=\"<enter_own_path>\""
   ]
  },
  {
   "cell_type": "code",
   "execution_count": null,
   "id": "95aea163",
   "metadata": {},
   "outputs": [],
   "source": [
    "# send requests to get information as multiple json files\n",
    "get_lst_nm()\n",
    "\n",
    "# get all json file name from specfic directory\n",
    "json_files = glob.glob(src_pth+'*.json')\n",
    "\n",
    "# read json file as dataframe\n",
    "dt_marvel = pd.concat([pd.read_json(f) for f in json_files])\n",
    "# drop column\n",
    "dt_marvel = dt_marvel.drop(['modified','thumbnail','resourceURI','urls'], axis=1)\n",
    "\n",
    "dt_marvel = get_num_val(dt_marvel)"
   ]
  },
  {
   "cell_type": "code",
   "execution_count": null,
   "id": "8811f6e4",
   "metadata": {},
   "outputs": [],
   "source": [
    "dt_marvel"
   ]
  },
  {
   "cell_type": "code",
   "execution_count": null,
   "id": "b2d309f0",
   "metadata": {},
   "outputs": [],
   "source": []
  }
 ],
 "metadata": {
  "kernelspec": {
   "display_name": "Python 3 (ipykernel)",
   "language": "python",
   "name": "python3"
  },
  "language_info": {
   "codemirror_mode": {
    "name": "ipython",
    "version": 3
   },
   "file_extension": ".py",
   "mimetype": "text/x-python",
   "name": "python",
   "nbconvert_exporter": "python",
   "pygments_lexer": "ipython3",
   "version": "3.9.7"
  }
 },
 "nbformat": 4,
 "nbformat_minor": 5
}
